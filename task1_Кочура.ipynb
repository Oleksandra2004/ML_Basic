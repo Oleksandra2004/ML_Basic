{
 "cells": [
  {
   "cell_type": "markdown",
   "source": [
    "# Практика №1"
   ],
   "metadata": {
    "collapsed": false
   }
  },
  {
   "cell_type": "markdown",
   "source": [
    "Розглянемо спрощену задачу відновлення залежності. Отже, на вході маємо координати двох точок. На виході необхідно отримати рівняння прямої, що проходить через обидві точки.\n",
    "\n",
    "Таким чином, завдання полягає в тому, щоб реалізувати функцію, яка приймає значення координат двох точок як вхідні параметри і повертає рядок, який представляє собою рівняння прямої\n"
   ],
   "metadata": {
    "collapsed": false
   }
  },
  {
   "cell_type": "markdown",
   "source": [
    "Нехай заданими двома точками є $A(x_1, y_1)$ і $B(x_2, y_2)$. Тепер необхідно знайти рівняння прямої, утвореної цими точками.\n",
    "\n",
    "Нагадаємо, що будь-яку пряму можна представити наступним чином:\n",
    "$$\n",
    "ax + by = c\n",
    "$$\n",
    "\n",
    "Нехай дві точки задовольняють дану пряму. В такому випадку маємо наступне\n",
    "$$\n",
    "ax_1 + by_1 = c\n",
    "$$\n",
    "$$\n",
    "ax_2 + by_2 = c\n",
    "$$"
   ],
   "metadata": {
    "collapsed": false
   }
  },
  {
   "cell_type": "markdown",
   "source": [
    "### Завдання 1.\n",
    "Враховуючи те, що можна встановити такі значення, щоб усі вищезазначені рівняння були вірними, вам необхідно отримати вирази для $a$ і $b$, а потім обрахувати значення $c$."
   ],
   "metadata": {
    "collapsed": false
   }
  },
  {
   "cell_type": "markdown",
   "source": [
    "#### Приклад:\n",
    "Для двох точок $A = (3, 2)$ і $B = (5, 7)$ отримаємо рівняння $$5x-2y=11$$"
   ],
   "metadata": {
    "collapsed": false
   }
  },
  {
   "cell_type": "markdown",
   "source": [
    "### Завдання 2.\n",
    "Реалізувати функцію, яка буде повертати рівняння прямої."
   ],
   "metadata": {
    "collapsed": false
   }
  },
  {
   "cell_type": "code",
   "execution_count": 1,
   "outputs": [
    {
     "name": "stdout",
     "output_type": "stream",
     "text": [
      "Рівняння прямої: 5x + -2y = 11\n"
     ]
    }
   ],
   "source": [
    "def find_line_equation(point1, point2):\n",
    "    x1, y1 = point1\n",
    "    x2, y2 = point2\n",
    "\n",
    "    # Знаходимо a і b\n",
    "    a = y2 - y1\n",
    "    b = x1 - x2\n",
    "\n",
    "    # Знаходимо c\n",
    "    c = a * x1 + b * y1\n",
    "\n",
    "    return a, b, c\n",
    "\n",
    "# Використання\n",
    "point_A = (3, 2)\n",
    "point_B = (5, 7)\n",
    "a, b, c = find_line_equation(point_A, point_B)\n",
    "\n",
    "print(f\"Рівняння прямої: {a}x + {b}y = {c}\")"
   ],
   "metadata": {
    "collapsed": false,
    "ExecuteTime": {
     "end_time": "2023-12-27T18:01:27.932619400Z",
     "start_time": "2023-12-27T18:01:27.899455200Z"
    }
   }
  },
  {
   "cell_type": "code",
   "execution_count": null,
   "outputs": [],
   "source": [
    "def line_equation_string(point1, point2):\n",
    "    a, b, c = find_line_equation(point1, point2)\n",
    "    return f\"{a}x + {b}y = {c}\"\n",
    "\n",
    "# Приклад використання\n",
    "point_A = (3, 2)\n",
    "point_B = (5, 7)\n",
    "equation_str = line_equation_string(point_A, point_B)\n",
    "\n",
    "print(f\"Рівняння прямої: {equation_str}\")"
   ],
   "metadata": {
    "collapsed": false
   }
  }
 ],
 "metadata": {
  "kernelspec": {
   "display_name": "Python 3",
   "language": "python",
   "name": "python3"
  },
  "language_info": {
   "codemirror_mode": {
    "name": "ipython",
    "version": 2
   },
   "file_extension": ".py",
   "mimetype": "text/x-python",
   "name": "python",
   "nbconvert_exporter": "python",
   "pygments_lexer": "ipython2",
   "version": "2.7.6"
  }
 },
 "nbformat": 4,
 "nbformat_minor": 0
}
