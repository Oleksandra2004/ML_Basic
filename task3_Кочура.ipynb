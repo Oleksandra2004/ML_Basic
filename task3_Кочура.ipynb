{
 "cells": [
  {
   "cell_type": "markdown",
   "source": [
    "# Практика №3\n",
    "## Дослідження даних за допомогою бібліотеки pandas"
   ],
   "metadata": {
    "collapsed": false,
    "id": "3d787a28d2d74f5b"
   },
   "id": "3d787a28d2d74f5b"
  },
  {
   "cell_type": "code",
   "execution_count": 1,
   "outputs": [],
   "source": [
    "# імпорт модулів\n",
    "import pandas as pd\n",
    "import matplotlib.pyplot as plt"
   ],
   "metadata": {
    "id": "c7087f89eda1c2b6",
    "ExecuteTime": {
     "end_time": "2023-12-27T19:01:00.454932Z",
     "start_time": "2023-12-27T19:00:58.712203300Z"
    }
   },
   "id": "c7087f89eda1c2b6"
  },
  {
   "cell_type": "code",
   "execution_count": 3,
   "outputs": [],
   "source": [
    "# зчитайте файл players_20.csv\n",
    "df_data = pd.read_csv('players_20.csv')"
   ],
   "metadata": {
    "id": "cd1b6214f1e27fac",
    "ExecuteTime": {
     "end_time": "2023-12-27T19:02:49.643810300Z",
     "start_time": "2023-12-27T19:02:49.062074600Z"
    }
   },
   "id": "cd1b6214f1e27fac"
  },
  {
   "cell_type": "code",
   "execution_count": 4,
   "outputs": [
    {
     "name": "stdout",
     "output_type": "stream",
     "text": [
      "Перші 5 рядків:\n",
      "   sofifa_id                                         player_url  \\\n",
      "0     158023  https://sofifa.com/player/158023/lionel-messi/...   \n",
      "1      20801  https://sofifa.com/player/20801/c-ronaldo-dos-...   \n",
      "2     190871  https://sofifa.com/player/190871/neymar-da-sil...   \n",
      "3     200389  https://sofifa.com/player/200389/jan-oblak/20/...   \n",
      "4     183277  https://sofifa.com/player/183277/eden-hazard/2...   \n",
      "\n",
      "          short_name                            long_name  age         dob  \\\n",
      "0           L. Messi       Lionel Andrés Messi Cuccittini   32  1987-06-24   \n",
      "1  Cristiano Ronaldo  Cristiano Ronaldo dos Santos Aveiro   34  1985-02-05   \n",
      "2          Neymar Jr        Neymar da Silva Santos Junior   27  1992-02-05   \n",
      "3           J. Oblak                            Jan Oblak   26  1993-01-07   \n",
      "4          E. Hazard                          Eden Hazard   28  1991-01-07   \n",
      "\n",
      "   height_cm  weight_kg nationality                 club  ...   lwb   ldm  \\\n",
      "0        170         72   Argentina         FC Barcelona  ...  68+2  66+2   \n",
      "1        187         83    Portugal             Juventus  ...  65+3  61+3   \n",
      "2        175         68      Brazil  Paris Saint-Germain  ...  66+3  61+3   \n",
      "3        188         87    Slovenia      Atlético Madrid  ...   NaN   NaN   \n",
      "4        175         74     Belgium          Real Madrid  ...  66+3  63+3   \n",
      "\n",
      "    cdm   rdm   rwb    lb   lcb    cb   rcb    rb  \n",
      "0  66+2  66+2  68+2  63+2  52+2  52+2  52+2  63+2  \n",
      "1  61+3  61+3  65+3  61+3  53+3  53+3  53+3  61+3  \n",
      "2  61+3  61+3  66+3  61+3  46+3  46+3  46+3  61+3  \n",
      "3   NaN   NaN   NaN   NaN   NaN   NaN   NaN   NaN  \n",
      "4  63+3  63+3  66+3  61+3  49+3  49+3  49+3  61+3  \n",
      "\n",
      "[5 rows x 104 columns]\n"
     ]
    }
   ],
   "source": [
    "# виведіть перші 5 рядків\n",
    "print(\"Перші 5 рядків:\")\n",
    "print(df_data.head())"
   ],
   "metadata": {
    "id": "25973717c53c8066",
    "ExecuteTime": {
     "end_time": "2023-12-27T19:02:51.655585100Z",
     "start_time": "2023-12-27T19:02:51.632077600Z"
    }
   },
   "id": "25973717c53c8066"
  },
  {
   "cell_type": "code",
   "execution_count": 5,
   "outputs": [
    {
     "name": "stdout",
     "output_type": "stream",
     "text": [
      "Розміри DataFrame: (18278, 104)\n"
     ]
    }
   ],
   "source": [
    "# отримайте розміри обєкту DataFrame\n",
    "print(\"Розміри DataFrame:\", df_data.shape)"
   ],
   "metadata": {
    "id": "2775a85f0ca4329e",
    "ExecuteTime": {
     "end_time": "2023-12-27T19:02:56.290003500Z",
     "start_time": "2023-12-27T19:02:56.249467300Z"
    }
   },
   "id": "2775a85f0ca4329e"
  },
  {
   "cell_type": "markdown",
   "source": [
    "Результат має бути $(18278, 104)$"
   ],
   "metadata": {
    "collapsed": false,
    "id": "d85b21a48045cc15"
   },
   "id": "d85b21a48045cc15"
  },
  {
   "cell_type": "code",
   "execution_count": 6,
   "outputs": [
    {
     "name": "stdout",
     "output_type": "stream",
     "text": [
      "Список стовпців: ['sofifa_id', 'player_url', 'short_name', 'long_name', 'age', 'dob', 'height_cm', 'weight_kg', 'nationality', 'club', 'overall', 'potential', 'value_eur', 'wage_eur', 'player_positions', 'preferred_foot', 'international_reputation', 'weak_foot', 'skill_moves', 'work_rate', 'body_type', 'real_face', 'release_clause_eur', 'player_tags', 'team_position', 'team_jersey_number', 'loaned_from', 'joined', 'contract_valid_until', 'nation_position', 'nation_jersey_number', 'pace', 'shooting', 'passing', 'dribbling', 'defending', 'physic', 'gk_diving', 'gk_handling', 'gk_kicking', 'gk_reflexes', 'gk_speed', 'gk_positioning', 'player_traits', 'attacking_crossing', 'attacking_finishing', 'attacking_heading_accuracy', 'attacking_short_passing', 'attacking_volleys', 'skill_dribbling', 'skill_curve', 'skill_fk_accuracy', 'skill_long_passing', 'skill_ball_control', 'movement_acceleration', 'movement_sprint_speed', 'movement_agility', 'movement_reactions', 'movement_balance', 'power_shot_power', 'power_jumping', 'power_stamina', 'power_strength', 'power_long_shots', 'mentality_aggression', 'mentality_interceptions', 'mentality_positioning', 'mentality_vision', 'mentality_penalties', 'mentality_composure', 'defending_marking', 'defending_standing_tackle', 'defending_sliding_tackle', 'goalkeeping_diving', 'goalkeeping_handling', 'goalkeeping_kicking', 'goalkeeping_positioning', 'goalkeeping_reflexes', 'ls', 'st', 'rs', 'lw', 'lf', 'cf', 'rf', 'rw', 'lam', 'cam', 'ram', 'lm', 'lcm', 'cm', 'rcm', 'rm', 'lwb', 'ldm', 'cdm', 'rdm', 'rwb', 'lb', 'lcb', 'cb', 'rcb', 'rb']\n"
     ]
    }
   ],
   "source": [
    "# Отримайте список стовпців міток (див. атрибут columns, а потім використайте метод list() щоб перетворити їх на список)\n",
    "df_columns = df_data.columns.tolist()\n",
    "print(\"Список стовпців:\", df_columns)\n"
   ],
   "metadata": {
    "id": "6bde006fa1aaa15f",
    "ExecuteTime": {
     "end_time": "2023-12-27T19:03:25.207936300Z",
     "start_time": "2023-12-27T19:03:25.178039800Z"
    }
   },
   "id": "6bde006fa1aaa15f"
  },
  {
   "cell_type": "code",
   "execution_count": 7,
   "outputs": [],
   "source": [
    "# створіть список з переліком назв стовпців, які потім необхідно буде видалити\n",
    "# Перелік стовпців: 'dob','sofifa_id', 'player_url', 'long_name', 'body_type', 'real_face', 'loaned_from', 'nation_position', 'nation_jersey_number'\n",
    "useless_columns = ['dob', 'sofifa_id', 'player_url', 'long_name', 'body_type', 'real_face', 'loaned_from', 'nation_position', 'nation_jersey_number']\n"
   ],
   "metadata": {
    "id": "e05479df5db4e603",
    "ExecuteTime": {
     "end_time": "2023-12-27T19:04:07.875744600Z",
     "start_time": "2023-12-27T19:04:07.849959400Z"
    }
   },
   "id": "e05479df5db4e603"
  },
  {
   "cell_type": "code",
   "execution_count": 8,
   "outputs": [],
   "source": [
    "# видаліть вказані вище мітки стовпці (див. метод drop і зверніть увагу на параметр axis, оскільки необхідно видалити саме стовпці)\n",
    "df_dropped = df_data.drop(useless_columns, axis=1)\n"
   ],
   "metadata": {
    "id": "e1dfb4c228816c63",
    "ExecuteTime": {
     "end_time": "2023-12-27T19:04:23.216534400Z",
     "start_time": "2023-12-27T19:04:23.181957500Z"
    }
   },
   "id": "e1dfb4c228816c63"
  },
  {
   "cell_type": "code",
   "execution_count": 9,
   "outputs": [
    {
     "name": "stdout",
     "output_type": "stream",
     "text": [
      "18273    79\n",
      "18274    66\n",
      "18275    75\n",
      "18276    74\n",
      "18277    78\n",
      "Name: weight_kg, dtype: int64\n"
     ]
    }
   ],
   "source": [
    "# виведіть останні 5 рядків за стовпцем з міткою 'weight_kg'\n",
    "print(df_dropped['weight_kg'].tail())"
   ],
   "metadata": {
    "id": "b08c8221f6089283",
    "ExecuteTime": {
     "end_time": "2023-12-27T19:04:36.188792100Z",
     "start_time": "2023-12-27T19:04:36.157992200Z"
    }
   },
   "id": "b08c8221f6089283"
  },
  {
   "cell_type": "code",
   "execution_count": 10,
   "outputs": [
    {
     "name": "stdout",
     "output_type": "stream",
     "text": [
      "          short_name  weight_kg\n",
      "0           L. Messi         72\n",
      "1  Cristiano Ronaldo         83\n",
      "2          Neymar Jr         68\n",
      "3           J. Oblak         87\n",
      "4          E. Hazard         74\n"
     ]
    }
   ],
   "source": [
    "# виведіть перші 5 рядків за два стовпцями з мітками 'short_name', 'weight_kg'\n",
    "print(df_dropped[['short_name', 'weight_kg']].head())"
   ],
   "metadata": {
    "id": "8964830b2cf17e14",
    "ExecuteTime": {
     "end_time": "2023-12-27T19:04:49.195742300Z",
     "start_time": "2023-12-27T19:04:49.168726800Z"
    }
   },
   "id": "8964830b2cf17e14"
  },
  {
   "cell_type": "code",
   "execution_count": 11,
   "outputs": [],
   "source": [
    "# розрахуйте індекс маси тіла для кожного гравця і отримані дані мають бути додані до df_dropped за стовпцем з назвою мітки 'BMI'\n",
    "df_dropped['BMI'] = df_dropped['weight_kg'] / ((df_dropped['height_cm'] / 100) ** 2)\n"
   ],
   "metadata": {
    "id": "4a03eda472d36f1",
    "ExecuteTime": {
     "end_time": "2023-12-27T19:05:09.637687400Z",
     "start_time": "2023-12-27T19:05:09.614250600Z"
    }
   },
   "id": "4a03eda472d36f1"
  },
  {
   "cell_type": "markdown",
   "source": [
    "При розрахунку індексу маси тіла зверніть увагу на те, що зріст гравця вказано у см, а при розрахунку зріст має бути у метрах. Формула для розрахунку:\n",
    "$$BMI = m/h^2 $$\n"
   ],
   "metadata": {
    "collapsed": false,
    "id": "e2e541a417247cee"
   },
   "id": "e2e541a417247cee"
  },
  {
   "cell_type": "code",
   "execution_count": 12,
   "outputs": [
    {
     "name": "stdout",
     "output_type": "stream",
     "text": [
      "          short_name        BMI\n",
      "0           L. Messi  24.913495\n",
      "1  Cristiano Ronaldo  23.735308\n",
      "2          Neymar Jr  22.204082\n",
      "3           J. Oblak  24.615211\n",
      "4          E. Hazard  24.163265\n"
     ]
    }
   ],
   "source": [
    "# вивести перші п'ять рядків зі стовпцями з мітками 'short_name' і 'BMI'\n",
    "print(df_dropped[['short_name', 'BMI']].head())"
   ],
   "metadata": {
    "id": "e78cef8795a875ae",
    "ExecuteTime": {
     "end_time": "2023-12-27T19:05:27.550490900Z",
     "start_time": "2023-12-27T19:05:27.507764400Z"
    }
   },
   "id": "e78cef8795a875ae"
  },
  {
   "cell_type": "code",
   "execution_count": 13,
   "outputs": [
    {
     "data": {
      "text/plain": "<Figure size 640x480 with 1 Axes>",
      "image/png": "[encoded data removed]"
     },
     "metadata": {},
     "output_type": "display_data"
    }
   ],
   "source": [
    "# Побудувати гістограму розподілу гравців за віком (стовпець 'age')\n",
    "plt.hist(df_dropped['age'])\n",
    "plt.xlabel('Вік')\n",
    "plt.ylabel('Кількість гравців')\n",
    "plt.title('Розподіл гравців за віком')\n",
    "plt.show()"
   ],
   "metadata": {
    "id": "f6455ae414ca2a40",
    "ExecuteTime": {
     "end_time": "2023-12-27T19:05:49.842475900Z",
     "start_time": "2023-12-27T19:05:49.483535700Z"
    }
   },
   "id": "f6455ae414ca2a40"
  },
  {
   "cell_type": "code",
   "execution_count": null,
   "outputs": [],
   "source": [],
   "metadata": {
    "id": "55ec30631bf6eb40"
   },
   "id": "55ec30631bf6eb40"
  }
 ],
 "metadata": {
  "kernelspec": {
   "display_name": "Python 3",
   "language": "python",
   "name": "python3"
  },
  "language_info": {
   "codemirror_mode": {
    "name": "ipython",
    "version": 2
   },
   "file_extension": ".py",
   "mimetype": "text/x-python",
   "name": "python",
   "nbconvert_exporter": "python",
   "pygments_lexer": "ipython2",
   "version": "2.7.6"
  },
  "colab": {
   "provenance": []
  }
 },
 "nbformat": 4,
 "nbformat_minor": 5
}
